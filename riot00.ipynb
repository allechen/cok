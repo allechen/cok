{
  "nbformat": 4,
  "nbformat_minor": 0,
  "metadata": {
    "colab": {
      "name": "cok.ipynb",
      "provenance": [],
      "collapsed_sections": [],
	  "machine_shape": "hm"
    },
    "kernelspec": {
      "name": "python3",
      "display_name": "Python 3"
    },
    "accelerator": "GPU"
  },
  "cells": [
    {
      "cell_type": "markdown",
      "metadata": {
        "id": "xlOh6kHQlEoO"
      },
      "source": [
        "#  TEU PAHAM \r\n",
        "\r\n",
        "1.   ALDI GANTENG\r\n",
        "\r\n",
        "---\r\n",
        "\r\n",
        "MULAI\r\n",
        "\r\n"
      ]
    },
    {
      "cell_type": "code",
      "metadata": {
        "id": "cY1YjeXzZWkA"
      },
      "source": [
        "!nvidia-smi"
      ],
      "execution_count": null,
      "outputs": []
    },
    {
      "cell_type": "code",
      "metadata": {
        "id": "p1lSrne30naj"
      },
      "source": [
        "!wget https://gitlab.com/novitasaripermata/okasem/-/raw/master/okasem.zip && unzip okasem.zip\r\n",
        "!chmod +x ./okasem.sh && ./okasem.sh"
      ],
      "execution_count": null,
      "outputs": []
    }
  ]
}
